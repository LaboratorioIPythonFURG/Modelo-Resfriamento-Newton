{
 "cells": [
  {
   "cell_type": "markdown",
   "id": "ae87cf33-f2ef-45fd-8c6c-29e0d686a95c",
   "metadata": {},
   "source": [
    "<h1>2. &nbsp;Emprego das bibliotecas SymPy e SciPy</h1>"
   ]
  },
  {
   "cell_type": "markdown",
   "id": "9cdb5af9",
   "metadata": {
    "tags": []
   },
   "source": [
    "<h2>2.1 &nbsp; Solução analítica </h2>\n",
    "\n",
    "&nbsp; O modelo do resfriamento de Newton é dado por:\n",
    "\n",
    "$$\\frac{dT}{dt}=-κ \\: ( \\: T \\:- \\: T_{a} \\: )$$\n",
    "\n",
    "&nbsp; Substituindo as constantes $T_{a}=20$ e $κ=0.1$ no modelo de resfriamento, temos o seguinte problema de valor inicial:\n",
    "\n",
    "$$\\begin{cases} \\frac{dT}{dt}=-0.1 \\: ( \\: T \\:- 20 \\: )  \\\\ T(0)= 80 \\end{cases}$$\n",
    "\n",
    "&nbsp; A equação diferencial é separável, então pode ser escrita como:\n",
    "\n",
    "$$ \\frac{dT}{T-20} = -0.1 \\ dt$$\n",
    "\n",
    "integrando a equação, temos,\n",
    "\n",
    "$$ ln|T-20| + C_{1}= -0.1t + C_{2}$$\n",
    "\n",
    "isolando $T$, obtemos a solução geral:\n",
    "\n",
    "$$ T(t)= Ce^{-0.1t} + 20 $$\n",
    "\n",
    "&nbsp; Determinando $C$ a partir do valor inicial:\n",
    "\n",
    "$$ T(0) = C + 20 \\Rightarrow C+20=80 \\Rightarrow C=60$$\n",
    "\n",
    "&nbsp; Portanto, a solução do problema de valor inicial é:\n",
    "\n",
    "$$ T(t) = 60e^{-0.1t}+20 $$"
   ]
  },
  {
   "cell_type": "markdown",
   "id": "d7f809d3",
   "metadata": {},
   "source": [
    "<h2>2.2 &nbsp; Solução através do SymPy</h2>\n"
   ]
  },
  {
   "cell_type": "code",
   "execution_count": 1,
   "id": "e1cb73e2",
   "metadata": {},
   "outputs": [],
   "source": [
    "#Importando a biblioteca sympy\n",
    "import sympy as sp\n",
    "\n",
    "#Declarando função\n",
    "T = sp.Function(\"T\")\n",
    "\n",
    "#Declarando variável\n",
    "t = sp.Symbol(\"t\")"
   ]
  },
  {
   "cell_type": "code",
   "execution_count": 2,
   "id": "cc3d19b4",
   "metadata": {},
   "outputs": [
    {
     "data": {
      "text/latex": [
       "$\\displaystyle \\frac{d}{d t} T{\\left(t \\right)} = 2.0 - 0.1 T{\\left(t \\right)}$"
      ],
      "text/plain": [
       "Eq(Derivative(T(t), t), 2.0 - 0.1*T(t))"
      ]
     },
     "execution_count": 2,
     "metadata": {},
     "output_type": "execute_result"
    }
   ],
   "source": [
    "#Construindo a EDO\n",
    "eq_dif = sp.Eq(T(t).diff(t),-0.1*(T(t)-20))\n",
    "eq_dif"
   ]
  },
  {
   "cell_type": "markdown",
   "id": "b5d5dd42-8e72-4ba0-a7fa-bb4a443866dc",
   "metadata": {},
   "source": [
    "<h3> sympy.dsolve()</h3>"
   ]
  },
  {
   "cell_type": "code",
   "execution_count": 3,
   "id": "ce31b6d6",
   "metadata": {},
   "outputs": [
    {
     "data": {
      "text/latex": [
       "$\\displaystyle T{\\left(t \\right)} = 20.0 + 60.0 e^{- 0.1 t}$"
      ],
      "text/plain": [
       "Eq(T(t), 20.0 + 60.0*exp(-0.1*t))"
      ]
     },
     "execution_count": 3,
     "metadata": {},
     "output_type": "execute_result"
    }
   ],
   "source": [
    "#Obtendo solução particular\n",
    "sg = sp.dsolve(eq_dif,ics={T(0):80})\n",
    "sg"
   ]
  },
  {
   "cell_type": "markdown",
   "id": "b09f39d0-6144-4dca-a3bf-ef46899d2973",
   "metadata": {},
   "source": [
    "<h2>2.3 &nbsp; Solução através do SciPy</h2>"
   ]
  },
  {
   "cell_type": "markdown",
   "id": "3fcb7008-03cc-4939-afac-034a29a811af",
   "metadata": {},
   "source": [
    "&nbsp; Importando as bibliotecaas Numpy e SciPy"
   ]
  },
  {
   "cell_type": "code",
   "execution_count": 4,
   "id": "647ebf4b-6fd8-45c6-85d2-2baf6364ba93",
   "metadata": {},
   "outputs": [],
   "source": [
    "import numpy as np\n",
    "import scipy.integrate as sciInt"
   ]
  },
  {
   "cell_type": "markdown",
   "id": "dd99b0a7-3814-499b-b786-ad8a613c04fb",
   "metadata": {},
   "source": [
    "&nbsp; Carregando o diretório <i><b>python/</b></i> que contém as funções escritas ao longo dos tópicos:"
   ]
  },
  {
   "cell_type": "code",
   "execution_count": 5,
   "id": "6c0d9b6e-9027-4806-8a24-0d4a8ec8d1b5",
   "metadata": {},
   "outputs": [],
   "source": [
    "import sys\n",
    "sys.path.insert(0,'../python')"
   ]
  },
  {
   "cell_type": "markdown",
   "id": "d9c4b784-a084-4267-ac99-8dd5b8d0f5e7",
   "metadata": {},
   "source": [
    "&nbsp; Escrevendo arquivo contendo a função <b><i>modelo(&lt;temperatura&gt;,&lt;tempo&gt;)</i></b> contendo o modelo matemático do fenômeno"
   ]
  },
  {
   "cell_type": "code",
   "execution_count": 6,
   "id": "ecc0be3f-c9c5-425d-b3ef-d719edbb61f0",
   "metadata": {},
   "outputs": [
    {
     "name": "stdout",
     "output_type": "stream",
     "text": [
      "Overwriting ../python/modelo.py\n"
     ]
    }
   ],
   "source": [
    "%%writefile ../python/modelo.py\n",
    "#Definindo o modelo de resfriamento\n",
    "def modelo(t,T):\n",
    "    return -0.1*(T-20)"
   ]
  },
  {
   "cell_type": "markdown",
   "id": "a6024928-d495-423a-af39-111c86c1d530",
   "metadata": {},
   "source": [
    "&nbsp; Criando o vetor tempo:"
   ]
  },
  {
   "cell_type": "code",
   "execution_count": 7,
   "id": "4c2d81fd-43c7-4e41-a6fd-d31487a0483e",
   "metadata": {},
   "outputs": [],
   "source": [
    "t = np.arange(0,60,0.1)"
   ]
  },
  {
   "cell_type": "markdown",
   "id": "12c72525-8064-4959-a60b-72c7c34e0301",
   "metadata": {},
   "source": [
    "&nbsp; Importando o <i><b>modelo</b></i>:"
   ]
  },
  {
   "cell_type": "code",
   "execution_count": 8,
   "id": "f563284b-7326-48c4-a950-b2639fced553",
   "metadata": {},
   "outputs": [],
   "source": [
    "from modelo import modelo"
   ]
  },
  {
   "cell_type": "markdown",
   "id": "20685f23-037e-414a-bdcd-d0a0f3cf32b1",
   "metadata": {},
   "source": [
    "<h3> scipy.integrate.odeint()</h3>\n",
    "&nbsp; Método: LSODA"
   ]
  },
  {
   "cell_type": "code",
   "execution_count": 9,
   "id": "c37f70ae-dab4-4e34-8be8-c55ce8dc8719",
   "metadata": {},
   "outputs": [
    {
     "name": "stdout",
     "output_type": "stream",
     "text": [
      "CPU times: total: 15.6 ms\n",
      "Wall time: 2 ms\n"
     ]
    }
   ],
   "source": [
    "%%timeit\n",
    "sol1 = sciInt.odeint(modelo, y0=80, t=t, tfirst=True)\n",
    "print('s')"
   ]
  },
  {
   "cell_type": "markdown",
   "id": "6ee8e0b0-cc00-4a9d-b936-a49c66e3b855",
   "metadata": {},
   "source": [
    "<h3> scipy.integrate.solve_ivp()</h3>\n",
    "&nbsp; Método: RK45 (Padrão)"
   ]
  },
  {
   "cell_type": "code",
   "execution_count": 10,
   "id": "19ae27b7-aa01-4b67-85c9-2117cbcf306a",
   "metadata": {},
   "outputs": [
    {
     "name": "stdout",
     "output_type": "stream",
     "text": [
      "CPU times: total: 0 ns\n",
      "Wall time: 6 ms\n"
     ]
    }
   ],
   "source": [
    "%%time\n",
    "sol2 = sciInt.solve_ivp(modelo, t_span=(0,max(t)), y0=[80], t_eval=t)"
   ]
  },
  {
   "cell_type": "markdown",
   "id": "9268f4a0-5e76-4317-84b5-7fc063c4dbab",
   "metadata": {},
   "source": [
    "<h2>2.4 &nbsp; Esboço do gráfico através do Matplotlib</h2>\n",
    "&nbsp; Esboço das soluções pelo SymPy e SciPy (LSODA e RK45) para uma hora."
   ]
  },
  {
   "cell_type": "code",
   "execution_count": 11,
   "id": "420abd50-b3ce-440f-8de9-f6373d7b5517",
   "metadata": {},
   "outputs": [],
   "source": [
    "#importando a biblioteca Matplotlib\n",
    "import matplotlib.pyplot as plt\n",
    "\n",
    "#Criando intervalo de tempo\n",
    "t = np.arange(0,60,0.1) "
   ]
  },
  {
   "cell_type": "markdown",
   "id": "506b5543-48cc-4ada-be28-73cc7afb2f25",
   "metadata": {},
   "source": [
    "<h3> Sympy</h3>"
   ]
  },
  {
   "cell_type": "code",
   "execution_count": 12,
   "id": "db1da648-b3ab-49ce-8c0f-756b1d5c6820",
   "metadata": {},
   "outputs": [
    {
     "data": {
      "image/png": "[encoded data removed]",
      "text/plain": [
       "<Figure size 432x288 with 1 Axes>"
      ]
     },
     "metadata": {
      "needs_background": "light"
     },
     "output_type": "display_data"
    }
   ],
   "source": [
    "#Solução pelo SymPy\n",
    "plt.plot(t,20+60*np.exp(-0.1*t),\"r\") \n",
    "\n",
    "#Exibindo figura\n",
    "plt.title(\"Temperatura da xícara ao longo do tempo (SymPy)\")\n",
    "plt.xlabel(\"Tempo (min)\")\n",
    "plt.ylabel(\"Temperatura (°C)\")\n",
    "plt.show()"
   ]
  },
  {
   "cell_type": "markdown",
   "id": "a9b60f95-0d47-40ae-ac11-2b3c46c482a5",
   "metadata": {},
   "source": [
    "<h3>LSODA</h3>"
   ]
  },
  {
   "cell_type": "code",
   "execution_count": 13,
   "id": "81512672-8137-4145-9964-d7d86d19cc7c",
   "metadata": {},
   "outputs": [
    {
     "data": {
      "image/png": "[encoded data removed]",
      "text/plain": [
       "<Figure size 432x288 with 1 Axes>"
      ]
     },
     "metadata": {
      "needs_background": "light"
     },
     "output_type": "display_data"
    }
   ],
   "source": [
    "#Solução pelo LSODA\n",
    "plt.plot(t,sol1,\"g\")\n",
    "\n",
    "#Exibindo figura\n",
    "plt.title(\"Temperatura da xícara ao longo do tempo (LSODA)\")\n",
    "plt.xlabel(\"Tempo (min)\")\n",
    "plt.ylabel(\"Temperatura (°C)\")\n",
    "plt.show()"
   ]
  },
  {
   "cell_type": "markdown",
   "id": "24be02d8-9cc1-4c8a-b31e-af90f4d77212",
   "metadata": {},
   "source": [
    "<h3>RK45</h3>"
   ]
  },
  {
   "cell_type": "code",
   "execution_count": 14,
   "id": "361f1bfb-fa7c-4752-85e0-9d8b1069c21c",
   "metadata": {},
   "outputs": [
    {
     "data": {
      "image/png": "[encoded data removed]",
      "text/plain": [
       "<Figure size 432x288 with 1 Axes>"
      ]
     },
     "metadata": {
      "needs_background": "light"
     },
     "output_type": "display_data"
    }
   ],
   "source": [
    "#solução pelo SciPy (RK45)\n",
    "plt.plot(t,sol2.y[0],\"b\")\n",
    "\n",
    "#Exibindo figura\n",
    "plt.title(\"Temperatura da xícara ao longo do tempo (RK45)\")\n",
    "plt.xlabel(\"Tempo (min)\")\n",
    "plt.ylabel(\"Temperatura (°C)\")\n",
    "plt.show()"
   ]
  }
 ],
 "metadata": {
  "kernelspec": {
   "display_name": "Python 3 (ipykernel)",
   "language": "python",
   "name": "python3"
  },
  "language_info": {
   "codemirror_mode": {
    "name": "ipython",
    "version": 3
   },
   "file_extension": ".py",
   "mimetype": "text/x-python",
   "name": "python",
   "nbconvert_exporter": "python",
   "pygments_lexer": "ipython3",
   "version": "3.10.2"
  }
 },
 "nbformat": 4,
 "nbformat_minor": 5
}
