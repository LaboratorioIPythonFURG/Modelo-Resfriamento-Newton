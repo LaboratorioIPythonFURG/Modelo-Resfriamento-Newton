{
 "cells": [
  {
   "cell_type": "markdown",
   "id": "8ee8e8c6-56ab-42ab-855a-199c77a51c0a",
   "metadata": {},
   "source": [
    "<h1  style='color:#0000ec'>6. &nbsp;Estudo comparativo - Soluções numéricas e analítica com <i>odeint</i> e <i>solve_ivp</i></h1>\n",
    "\n",
    "&nbsp; Esta subseção tem como objetivo realizar um estudo similar aos realizados nas seções anteriores, adicionando aproximações geradas através das bibliotecas <i>odeint</i> e <i>solve_ivp</i>"
   ]
  },
  {
   "cell_type": "markdown",
   "id": "d154310a-ba27-439c-a34f-7b22e86f23be",
   "metadata": {},
   "source": [
    "<h2 style='color:#0000b7'>6.1 &nbsp; O maior passo de derivação para produzir uma aproximação aceitável</h2>"
   ]
  },
  {
   "cell_type": "markdown",
   "id": "102b1946-9464-4fae-8ee0-414b178c6bd5",
   "metadata": {},
   "source": [
    "&nbsp; Vimos nas seções anteriores o maior passo de derivação para produzir uma aproximação aceitável, com exceção das aproximações geradas através de bibliotecas:\n",
    "\n",
    "<center><b>Tabela 1 - Passo máximo para obter o erro máximo menor que 0.4 com decréscimo de 0.01</b></center>\n",
    "\n",
    "| Método | Passo máximo | Erro máximo |\n",
    "| -- | -- | --  | \n",
    "| Euler | 0.35 |  0.39199770 |\n",
    "| Euler modificado | 2.95 | 0.39933874\n",
    "| RK4 | 9.86 | 0.39898163 |\n",
    "\n",
    "<center> Fonte: O autor</center>\n"
   ]
  },
  {
   "cell_type": "markdown",
   "id": "59ea4bcd-7333-4cd0-b3e0-7f79e52e6ef1",
   "metadata": {},
   "source": [
    "&nbsp; Pergunta-se: Qual será o passo máximo, sob as condições dos estudos das seções anteriores, para as aproximações geradas por bibliotecas?&nbsp; Para iniciar este estudo, vamos importar as bibliotecas NumPy, SciPy e Matplotlib:"
   ]
  },
  {
   "cell_type": "code",
   "execution_count": 1,
   "id": "3ffc42ae-bd83-4ea3-8bc6-01e084423492",
   "metadata": {},
   "outputs": [],
   "source": [
    "import numpy as np\n",
    "import scipy.integrate as sciInt\n",
    "import matplotlib.pyplot as plt"
   ]
  },
  {
   "cell_type": "markdown",
   "id": "3f636a5f-6cd5-4db0-9931-978e8c0506cf",
   "metadata": {},
   "source": [
    "&nbsp; Carregando o diretório <i><b>python/</b></i> que contém as funções escritas ao longo dos tópicos:"
   ]
  },
  {
   "cell_type": "code",
   "execution_count": 2,
   "id": "ecee2855-f141-4e1b-b013-d518cdaac999",
   "metadata": {},
   "outputs": [],
   "source": [
    "import sys\n",
    "sys.path.insert(0, '../python')"
   ]
  },
  {
   "cell_type": "markdown",
   "id": "b0614228-45ff-446b-81a0-d3d5ef8d91dc",
   "metadata": {},
   "source": [
    "&nbsp; Importando o <b><i>modelo(&lt;temperatura&gt;,&lt;tempo&gt;)</i></b>:"
   ]
  },
  {
   "cell_type": "code",
   "execution_count": 3,
   "id": "35fff83d-2ce1-4638-ab98-1550535a794a",
   "metadata": {},
   "outputs": [],
   "source": [
    "from modelo import modelo\n",
    "from f_erro import f_erro"
   ]
  },
  {
   "cell_type": "markdown",
   "id": "8fd81d6f-e5da-4695-958e-fd3953753fd5",
   "metadata": {},
   "source": [
    "&nbsp; Declarando o passo de derivação <b><i>h</i></b>, a condição inicial <b><i>T0</i></b>, o tempo inicial <b><i>ti</i></b>, o tempo final <b><i>tf</i></b> e o intervalo de tempo <b><i>vt</i></b>:"
   ]
  },
  {
   "cell_type": "code",
   "execution_count": 4,
   "id": "e064a97f-22cf-48f8-a6c9-b06bcb27353b",
   "metadata": {},
   "outputs": [],
   "source": [
    "#Passo de derivação\n",
    "h = 0.001\n",
    "\n",
    "#Condição inicial\n",
    "T0 = 80\n",
    "\n",
    "#tempo inicial\n",
    "ti = 0\n",
    "\n",
    "#tempo final\n",
    "tf = 60\n",
    "\n",
    "#Intervalo de 0 à 60 minutos com passo h\n",
    "vt = np.arange(ti,tf,h)"
   ]
  },
  {
   "cell_type": "markdown",
   "id": "bcb2167e-3a2c-447d-933d-81e8ba896470",
   "metadata": {},
   "source": [
    "&nbsp; Uma solução com erro máximo menor que <b>0.4</b> é uma aproximação aceitável para este problema, dada a escala, este valor será o limite superior <i><b>limite_sup</b></i> para o erro máximo. &nbsp; Como é de se esperar, as funções <i>odeint</i> e <i>solve_ivp (RK45)</i> são mais aprimorados que os métodos escritos nas seções anteriores. &nbsp; Então, ao invés de diminuirmos o valore do <i><b>passo</b></i> a fim de encontrar o <i>passo máximo</i>, vamos acrescentar, a fim de verificar se para algum vetor tempo <b><i>vt</i></b>, excederemos o <b><i>limit_sup</i></b>."
   ]
  },
  {
   "cell_type": "code",
   "execution_count": 5,
   "id": "db35504e-3251-4988-b54d-01f9ba240b75",
   "metadata": {},
   "outputs": [],
   "source": [
    "limite_sup = 0.4\n",
    "passo = 0.01\n",
    "acrescimo = 0.01"
   ]
  },
  {
   "cell_type": "markdown",
   "id": "d2570fcd-c46a-4cb3-9069-3eb19aba34ed",
   "metadata": {},
   "source": [
    "<h3>solve_ivp (RK45)</h3>\n",
    "    \n",
    "&nbsp; Continuando, escrevemos um <i>loop</i> de forma que o passo de derivação seja reduzido até que o erro máximo entre a solução numérica e analítica seja menor que o limite superior.\n",
    "<br>\n",
    "<b>&nbsp; Atenção:</b> Devemos tomar os valores absolutos  dos elementos do vetor erro <b>abs(erro[])</b>:"
   ]
  },
  {
   "cell_type": "code",
   "execution_count": 6,
   "id": "d4276974-72f5-4d81-b7bf-2a64e7d46284",
   "metadata": {},
   "outputs": [
    {
     "name": "stdout",
     "output_type": "stream",
     "text": [
      "Passo atual: 59.00999999999683\n"
     ]
    }
   ],
   "source": [
    "#variáveis auxiliares\n",
    "err = np.array([0])\n",
    "passo_max = np.array([0])\n",
    "    \n",
    "while np.amax(err) < limite_sup and passo < 59:\n",
    "    \n",
    "    #Criando vetor tempo \n",
    "    vt = np.arange(ti,tf,passo)\n",
    "    \n",
    "    #Método de Runge-Kutta 45\n",
    "    T_rk45 = sciInt.solve_ivp(modelo, t_span=(0,max(vt)), y0=[T0], t_eval=vt)\n",
    "    \n",
    "    #Gerando solução analítica\n",
    "    sol_analitica = 20+60*np.exp(-0.1*vt)\n",
    "    \n",
    "    #Chamando a função erro\n",
    "    err = abs(f_erro(sol_analitica,T_rk45.y[0]))\n",
    "    \n",
    "    #Verificando se limite superior é excedido\n",
    "    if np.amax(err) > 0.4:       \n",
    "        #Adiciona passo ao vetor passo_max\n",
    "        passo_max = np.append(passo_max,np.amax(err))\n",
    "        break\n",
    "\n",
    "    #Realizando acréscimo do passo de derivação\n",
    "    passo = passo + acrescimo\n",
    "    \n",
    "print('Passo atual: {}'.format(passo))"
   ]
  },
  {
   "cell_type": "markdown",
   "id": "1d965dc2-bd84-4e10-bcc4-0ce2b637d348",
   "metadata": {},
   "source": [
    "Passo atual: 59.00999999999683 <br>\n",
    "Tempo de execução: de 10 à 11 segundos."
   ]
  },
  {
   "cell_type": "markdown",
   "id": "2ef2373f-7f12-4120-a834-77873b85fba7",
   "metadata": {},
   "source": [
    "&nbsp; Observando o passo atual, podemos concluir que o algoritmo <b>não pôde encontrar </b> um <i>passo</i>, entre 0.01 e 59 com acréscimo de 0.01, que seja maior ou igual a 4. &nbsp; Isto quer dizer:\n",
    "<center>Tomando o intevalo de tempo de 0 à 60 minutos, para todo <i>passo</i> de tempo entre 0.01 e 59 com acréscimo de 0.01, o erro máximo entre a solução numérica e analítica não excede o valor de 0.4</center> \n",
    "\n",
    "<h3>odeint (LSODA)</h3>\n",
    "\n",
    "&nbsp; Utilizando um algoritmo similar ao escrito em <b>Input [6],</b> vamos verificar se o método <i>LSODA</i> tem o mesmo comportamento que o método Runge-Kutta-Fehlberg.\n",
    "\n",
    "&nbsp; Declarando variáveis:"
   ]
  },
  {
   "cell_type": "code",
   "execution_count": 7,
   "id": "60896c25-4cef-44d8-a7cd-30b9810a9dc2",
   "metadata": {},
   "outputs": [],
   "source": [
    "limite_sup = 0.4\n",
    "passo = 0.01\n",
    "acrescimo = 0.01"
   ]
  },
  {
   "cell_type": "markdown",
   "id": "be87dbb6-c08a-4799-bb3d-3db775a84075",
   "metadata": {},
   "source": [
    "&nbsp; Escrevendo algoritmo para obter o passo máximo que gere uma solução aceitável <i><b>passo_max</b></i>:"
   ]
  },
  {
   "cell_type": "code",
   "execution_count": 8,
   "id": "da7d8a5b-1a42-494b-bc1c-e0fbb342a280",
   "metadata": {},
   "outputs": [
    {
     "name": "stdout",
     "output_type": "stream",
     "text": [
      "Passo atual 59.00999999999683:\n"
     ]
    }
   ],
   "source": [
    "#variáveis auxiliares\n",
    "err = np.array([0])\n",
    "passo_max = np.array([0])\n",
    "    \n",
    "while np.amax(err) < limite_sup and passo < 59:\n",
    "    \n",
    "    #Criando vetor tempo \n",
    "    vt = np.arange(ti,tf,passo)\n",
    "    \n",
    "    #Método LSODA\n",
    "    T_lsoda = sciInt.odeint(modelo, y0=T0, t=vt, tfirst=True)\n",
    "    \n",
    "    #Gerando solução analítica\n",
    "    sol_analitica = 20+60*np.exp(-0.1*vt)\n",
    "    \n",
    "    #Algoritmo para a função erro\n",
    "    err = np.array([80])\n",
    "    i = 0 \n",
    "    for elemento in T_lsoda:\n",
    "        err = np.append(err,abs(sol_analitica[i]-elemento))\n",
    "        i = i + 1\n",
    "    err = np.delete(err, [0])\n",
    "    \n",
    "    #Verificando se limite superior é excedido\n",
    "    if np.amax(err) > 0.4:       \n",
    "        #Adiciona passo ao vetor passo_max\n",
    "        passo_max = np.append(passo_max,np.amax(err))\n",
    "        break\n",
    "\n",
    "    #Realizando acréscimo do passo de derivação\n",
    "    passo = passo + acrescimo\n",
    "    \n",
    "print('Passo atual {}:'.format(passo))"
   ]
  },
  {
   "cell_type": "markdown",
   "id": "d8dc53b6-7a8b-45ec-93eb-69000b416b71",
   "metadata": {},
   "source": [
    "Passo atual : 59.00999999999683.<br>\n",
    "Tempo de execução: de 6 à 7 segundos.\n",
    "\n",
    "&nbsp; Observando o passo atual, podemos concluir que o algoritmo <b>não pôde encontrar </b> um <i>passo</i>, entre 0.01 e 59 com acréscimo de 0.01, que seja maior ou igual a 4.\n",
    "<br>\n",
    "&nbsp; Tanto o método <i>RK45</i> quanto o método <i>LSODA</i>, sob as condições fornecidas, são melhores em termos de convergência quando comparados aos métodos estudados nas seções 3 à 5."
   ]
  },
  {
   "cell_type": "markdown",
   "id": "3abec263-8ee1-49cf-ab15-24ef16e6306e",
   "metadata": {},
   "source": [
    "<h2>6.2 &nbsp; Erro cometido entre as soluções numéricas e analítica</h2>\n",
    "\n",
    "&nbsp; Neste escrever um algoritmo para exibir o gráfico das soluções numéricas e analítica.\n",
    "<br>\n",
    "&nbsp; Estamos interessados em comparar com a solução analítica as seguintes aproximações numéricas:\n",
    "<ol>\n",
    "    <li>&nbsp;Método de Euler</li>\n",
    "    <li>&nbsp;Método de Euler modificado</li>\n",
    "    <li>&nbsp;Método Runge-Kutta de 4ª ordem (RK4)</li>\n",
    "    <li>&nbsp;Método Runge-Kutta-Fehlberg (RK45)</li>\n",
    "    <li>&nbsp;LSODA</li>\n",
    "</ol>\n"
   ]
  },
  {
   "cell_type": "markdown",
   "id": "c7f44ca9-8791-492f-b074-9aa41e618f9d",
   "metadata": {},
   "source": [
    "&nbsp; Importando as funções: <b><i>sol_euler</i></b>, <b><i>sol_euler_mod</i></b>, <b><i>sol_rk4</i></b>, <b><i>modelo</i></b> e <b><i>f_erro</i></b>:"
   ]
  },
  {
   "cell_type": "code",
   "execution_count": 9,
   "id": "973e181f-a4e9-4732-9d52-4fda4964401c",
   "metadata": {},
   "outputs": [],
   "source": [
    "from sol_euler import sol_euler\n",
    "from sol_euler_mod import sol_euler_mod\n",
    "from sol_rk4 import sol_rk4\n",
    "from modelo import modelo\n",
    "from f_erro import f_erro"
   ]
  },
  {
   "cell_type": "markdown",
   "id": "526dd89f-5ea0-4cfd-bda8-d22fff3eb2c6",
   "metadata": {},
   "source": [
    "&nbsp; Declarando o passo de derivação <b><i>h</i></b>, a condição inicial <b><i>T0</i></b>, o tempo inicial <b><i>ti</i></b>, o tempo final <b><i>tf</i></b> e o intervalo de tempo <b><i>vt</i></b>:"
   ]
  },
  {
   "cell_type": "code",
   "execution_count": 10,
   "id": "585b74e2-ca41-4930-a8c7-c42d9907aa6a",
   "metadata": {},
   "outputs": [],
   "source": [
    "#Passo de derivação\n",
    "h = 0.001\n",
    "\n",
    "#Condição inicial\n",
    "T0 = 80\n",
    "\n",
    "#tempo inicial\n",
    "ti = 0\n",
    "\n",
    "#tempo final\n",
    "tf = 60\n",
    "\n",
    "#Intervalo de 0 à 60 minutos com passo h\n",
    "vt = np.arange(ti,tf,h)"
   ]
  },
  {
   "cell_type": "markdown",
   "id": "d6e239f6-8680-44fb-a056-3d5875595ece",
   "metadata": {},
   "source": [
    "&nbsp; Obtendo aproximações pelos métodos numéricos listados:"
   ]
  },
  {
   "cell_type": "code",
   "execution_count": 11,
   "id": "449c9dc6-f5d4-48d8-a6d0-b90ad8b41ac4",
   "metadata": {},
   "outputs": [
    {
     "name": "stdout",
     "output_type": "stream",
     "text": [
      "CPU times: total: 6.69 s\n",
      "Wall time: 6.75 s\n"
     ]
    }
   ],
   "source": [
    "%%time\n",
    "#Método de Euler\n",
    "T_euler = sol_euler(vt,T0)\n",
    "\n",
    "#Método de Euler modificado\n",
    "T_euler_mod = sol_euler_mod(vt,T0)\n",
    "\n",
    "#Método de Runge-Kutta de 4ª ordem\n",
    "T_rk4 = sol_rk4(vt,T0)\n",
    "\n",
    "#Método LSODA\n",
    "T_lsoda = sciInt.odeint(modelo, y0=T0, t=vt, tfirst=True)\n",
    "\n",
    "#Método de Runge-Kutta 45\n",
    "T_rk45 = sciInt.solve_ivp(modelo, t_span=(0,max(vt)), y0=[T0], t_eval=vt)"
   ]
  },
  {
   "cell_type": "markdown",
   "id": "47b04db6-edcc-4e09-9803-834b54c8d8d5",
   "metadata": {},
   "source": [
    "Tempo de execução: de 6 à 7 segundos.<br>\n",
    "&nbsp; Obtendo solução analítica:"
   ]
  },
  {
   "cell_type": "code",
   "execution_count": 12,
   "id": "6843c2c8-494f-45e4-9a07-5310914c82b6",
   "metadata": {},
   "outputs": [],
   "source": [
    "sol_analitica = 20+60*np.exp(-0.1*vt)"
   ]
  },
  {
   "cell_type": "markdown",
   "id": "85b6040d-4fab-4817-9eae-7e0f6715ee80",
   "metadata": {},
   "source": [
    "&nbsp; Exibindo o gráfico contendo o erro entre a solução analítica e as aproximações numéricas.\n",
    "<center><b>| solução_analítica - aproximação_numérica |</b></center>"
   ]
  },
  {
   "cell_type": "code",
   "execution_count": 16,
   "id": "0573a746-b96e-4028-807b-a7e7585579ba",
   "metadata": {},
   "outputs": [
    {
     "data": {
      "image/png": "[encoded data removed]",
      "text/plain": [
       "<Figure size 432x288 with 1 Axes>"
      ]
     },
     "metadata": {
      "needs_background": "light"
     },
     "output_type": "display_data"
    },
    {
     "name": "stdout",
     "output_type": "stream",
     "text": [
      "0.03409087007469935\n",
      "CPU times: total: 2.56 s\n",
      "Wall time: 2.6 s\n"
     ]
    }
   ],
   "source": [
    "%%time\n",
    "\n",
    "#Método de Euler\n",
    "plt.plot(vt,abs(f_erro(sol_analitica,T_euler)),'r',label='Euler')\n",
    "\n",
    "#Método de Euler modificado\n",
    "plt.plot(vt,abs(f_erro(sol_analitica,T_euler_mod)),'g',label='Euler modificado')\n",
    "\n",
    "#Método de Runge-Kutta de 4ª ordem\n",
    "plt.plot(vt,abs(f_erro(sol_analitica,T_rk4)) ,'b',label='RK4')\n",
    "\n",
    "#Método de Runge-Kutta 45\n",
    "plt.plot(vt,abs(f_erro(sol_analitica,T_rk45.y[0])),'c',label='RK45')\n",
    "\n",
    "#Método LSODA\n",
    "T_lsoda_novo = np.array([80])\n",
    "i = 0 \n",
    "for elemento in T_lsoda:\n",
    "    T_lsoda_novo = np.append(T_lsoda_novo,abs(sol_analitica[i]-elemento))\n",
    "    i = i + 1\n",
    "T_lsoda_novo = np.delete(T_lsoda_novo, [0])\n",
    "plt.plot(vt,T_lsoda_novo ,'m',label='LSODA')\n",
    "\n",
    "\n",
    "#Exibindo figura\n",
    "plt.title('Erro entre solução analítica e numérica')\n",
    "plt.xlabel('Tempo (min)')\n",
    "plt.ylabel('Erro Absoluto')\n",
    "plt.legend()\n",
    "plt.show()\n",
    "\n",
    "print(np.amax(abs(f_erro(sol_analitica,T_rk45.y[0]))))"
   ]
  },
  {
   "cell_type": "markdown",
   "id": "0bcf421f-2765-450a-bfa0-16614fc2a340",
   "metadata": {},
   "source": [
    "&nbsp; Tempo de execução: de 2 à 3 segundos.\n",
    "<br>\n",
    "&nbsp; Vamos gerar uma nova figura, removendo a aproximação <b><font color=\"#00bfbf\">RK45</font></b>, a fim de ampliarmos o gráfico e visualizarmos novas curvas."
   ]
  },
  {
   "cell_type": "code",
   "execution_count": 20,
   "id": "79362db8-c2a0-4909-8f77-69f83329a997",
   "metadata": {},
   "outputs": [
    {
     "data": {
      "image/png": "[encoded data removed]",
      "text/plain": [
       "<Figure size 432x288 with 1 Axes>"
      ]
     },
     "metadata": {
      "needs_background": "light"
     },
     "output_type": "display_data"
    },
    {
     "name": "stdout",
     "output_type": "stream",
     "text": [
      "CPU times: total: 375 ms\n",
      "Wall time: 368 ms\n"
     ]
    }
   ],
   "source": [
    "%%time\n",
    "#Método de Euler\n",
    "plt.plot(vt,abs(f_erro(sol_analitica,T_euler)),'r',label='Euler')\n",
    "\n",
    "#Método de Euler modificado\n",
    "plt.plot(vt,abs(f_erro(sol_analitica,T_euler_mod)),'g',label='Euler modificado')\n",
    "\n",
    "#Método de Runge-Kutta de 4ª ordem\n",
    "plt.plot(vt,abs(f_erro(sol_analitica,T_rk4)) ,'b',label='RK4')\n",
    "\n",
    "#Método LSODA\n",
    "plt.plot(vt,T_lsoda_novo ,'m',label='LSODA')\n",
    "\n",
    "#Exibindo figura\n",
    "plt.title('Erro entre solução analítica e numérica')\n",
    "plt.xlabel('Tempo (min)')\n",
    "plt.ylabel('Erro Absoluto')\n",
    "plt.legend()\n",
    "plt.show()"
   ]
  },
  {
   "cell_type": "markdown",
   "id": "dda53497-7fc6-4ecc-bcf1-35d6153b7f93",
   "metadata": {},
   "source": [
    "Tempo de execução: de 400 à 500 milisegundos\n",
    "\n",
    "Removendo a aproximação de <b><font color=\"#ff1a1a\">Euler</font></b>:"
   ]
  },
  {
   "cell_type": "code",
   "execution_count": 18,
   "id": "32335ccf-8ccb-42a5-8ea1-a73e93c5ec67",
   "metadata": {},
   "outputs": [
    {
     "data": {
      "image/png": "[encoded data removed]",
      "text/plain": [
       "<Figure size 432x288 with 1 Axes>"
      ]
     },
     "metadata": {
      "needs_background": "light"
     },
     "output_type": "display_data"
    },
    {
     "name": "stdout",
     "output_type": "stream",
     "text": [
      "CPU times: total: 344 ms\n",
      "Wall time: 337 ms\n"
     ]
    }
   ],
   "source": [
    "%%time\n",
    "##Método de Euler modificado\n",
    "plt.plot(vt,abs(f_erro(sol_analitica,T_euler_mod)),'g',label='Euler modificado')\n",
    "\n",
    "#Método de Runge-Kutta de 4ª ordem\n",
    "plt.plot(vt,abs(f_erro(sol_analitica,T_rk4)),'b',label='RK4')\n",
    "\n",
    "#Método LSODA\n",
    "plt.plot(vt,T_lsoda_novo ,'m',label='LSODA')\n",
    "\n",
    "#Exibindo figura\n",
    "plt.title('Erro entre solução analítica e numérica')\n",
    "plt.xlabel('Tempo (min)')\n",
    "plt.ylabel('Temperatura (°C)')\n",
    "plt.legend()\n",
    "plt.show()"
   ]
  },
  {
   "cell_type": "markdown",
   "id": "60f1b804-04a3-4c86-992b-f4c4cf3fe459",
   "metadata": {},
   "source": [
    "Tempo de execução: de 300 à 400 milisegundos.\n",
    "<br>\n",
    "Removendo a curva <b><font color=\"#bf00bf\">LSODA</font></b>:"
   ]
  },
  {
   "cell_type": "code",
   "execution_count": null,
   "id": "495d515b-9b61-4f69-8ea8-2282ea44abfe",
   "metadata": {},
   "outputs": [],
   "source": [
    "%%time\n",
    "#Método de Euler modificado\n",
    "plt.plot(vt,abs(f_erro(sol_analitica,T_euler_mod)),'g',label='Euler modificado')\n",
    "\n",
    "#Método de Runge-Kutta de 4ª ordem\n",
    "plt.plot(vt,abs(f_erro(sol_analitica,T_rk4)) ,'b',label='RK4')\n",
    "\n",
    "#Exibindo figura\n",
    "plt.title('Erro entre solução analítica e numérica')\n",
    "plt.xlabel('Tempo (min)')\n",
    "plt.ylabel('Temperatura (°C)')\n",
    "plt.legend()\n",
    "plt.show()"
   ]
  },
  {
   "cell_type": "markdown",
   "id": "03ddaf67-ca96-4379-b394-349adb2c3f96",
   "metadata": {},
   "source": [
    "Tempo de execução: de 300 à 400 milisegundos\n",
    "<br>\n",
    "Finalmente, <i>plotando</i> somente a curva RK4, deixando de lado <b><font color=\"#198c19\">Euler modificado</font></b>:"
   ]
  },
  {
   "cell_type": "code",
   "execution_count": null,
   "id": "2ee5dee0-02e3-43f1-b9a0-5e0acac29a35",
   "metadata": {},
   "outputs": [],
   "source": [
    "%%time\n",
    "#Método de Runge-Kutta de 4ª ordem\n",
    "plt.plot(vt,abs(f_erro(sol_analitica,T_rk4)) ,'b',label='RK4')\n",
    "\n",
    "#Exibindo figura\n",
    "plt.title('Erro entre solução analítica e numérica')\n",
    "plt.xlabel('Tempo (min)')\n",
    "plt.ylabel('Temperatura (°C)')\n",
    "plt.legend()\n",
    "plt.show()"
   ]
  },
  {
   "cell_type": "markdown",
   "id": "38413dd0-4654-45a8-956a-932ff7dbee6c",
   "metadata": {},
   "source": [
    "Tempo de execução: de 200 à 300 milisegundos"
   ]
  }
 ],
 "metadata": {
  "kernelspec": {
   "display_name": "Python 3 (ipykernel)",
   "language": "python",
   "name": "python3"
  },
  "language_info": {
   "codemirror_mode": {
    "name": "ipython",
    "version": 3
   },
   "file_extension": ".py",
   "mimetype": "text/x-python",
   "name": "python",
   "nbconvert_exporter": "python",
   "pygments_lexer": "ipython3",
   "version": "3.10.2"
  }
 },
 "nbformat": 4,
 "nbformat_minor": 5
}
