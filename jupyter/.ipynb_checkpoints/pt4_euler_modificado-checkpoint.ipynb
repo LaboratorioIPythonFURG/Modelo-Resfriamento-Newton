{
 "cells": [
  {
   "cell_type": "markdown",
   "id": "0b595eda-4766-4731-a875-7ed5f9f1dda0",
   "metadata": {},
   "source": [
    "<h1>4 &nbsp; Método de Euler modificado  </h1>\n",
    "\n",
    "&nbsp; Seja o problema de valor inicial (Lei de resfriamento de Newton):\n",
    "\n",
    "$$\\begin{cases} T'(t)=f(t,T)  \\\\ T_{0}= g(t_{0}) \\end{cases}$$\n",
    "\n",
    "&nbsp; O método de Euler modificado baseia-se em duas inclinações $k_{1}$ e $k_{2}$, onde a média aritmética dessas inclinações, $k$, é utilizada como inclinação para estimar o valor de $T_{1}$, partindo de um ponto $(t_{0},T_{0})$, onde:\n",
    "\n",
    "<center>$k_{1}$ é a inclinação em $(t_{0},T_{0})$</center>\n",
    "<center>$k_{2}$ é a inclinação em $(t_{1},T_{1})$</center>\n",
    "<center>$k$ é a média aritmética entre $k_{1}$ e $k_{2}$</center>\n",
    "<center>$T_{1}=T_{0}+h*k$ é a equação do método de Euler modificado</center>\n",
    "\n",
    "&nbsp; Partindo de $k_{1}=f(t_{0},T_{0})$, podemos definir $T_{1}$ pelo método de Euler com passo $h$:\n",
    "\n",
    "$$ T_{1}=T_{0}+h*k_{1}$$\n",
    "\n",
    "&nbsp; E,\n",
    "\n",
    "$$t_{1}=t_{0}+h$$\n",
    "\n",
    "&nbsp; Dessa forma, $k_{2}$ pode ser escrito como:\n",
    "\n",
    "$$k_{2}=f(t_{0}+h,T_{0}+h*k_{1})$$\n",
    "\n",
    "&nbsp; De forma compacta, podemos escrever o método de Euler modificado como:\n",
    "\n",
    "$$ t_{i+1} = t_{i} + h \\:,\\: T_{i+1}=T_{i}+\\frac{h}{2}[f(t_{i},T_{i})+f(t_{i}+h,T_{i}+h*f(t_{i},T_{i}\\:)\\:)\\:] $$"
   ]
  },
  {
   "cell_type": "markdown",
   "id": "ee421faa-f3c0-4054-8123-eb155863f091",
   "metadata": {},
   "source": [
    "<h2>4.1 &nbsp; Método de Euler modificado - Pseudocódigo</h2>\n",
    "<div style=\"background-color:rgba(0, 0, 0, 0.0470588); padding:10px 0;font-family:monospace;\">\n",
    "<b>Entrada: A função $f(T)$, a condição inicial $(t_{0},T_{0})$, o passo $h$ e o vetor tempo $t$.</b><br>\n",
    "    <b>Saída: os vetores $t$ e $T$ tais que $T_{i} \\approx T(t_{i})$ .</b><br>\n",
    "    <b>Início:</b>\n",
    "    <ol>\n",
    "  <li>$t\\leftarrow  t_{inicial}:h:t_{final}$</li>\n",
    "  <li>$T_{1}\\leftarrow  80$</li>\n",
    "  <li><b>para</b> t <b>faça</b></li>\n",
    "  <li>|&nbsp;&nbsp;&nbsp;&nbsp;$T_{i+1} \\leftarrow  T_{i}+(h/2)*f(T_{i}+h*f(T_{i}))$</li>\n",
    "  <li>|&nbsp;&nbsp;&nbsp;&nbsp;$T \\leftarrow T_{i+1}$</li>\n",
    "  <li>fim</li>\n",
    "  <li>retorna($t,T$)</li>\n",
    "</ol> \n",
    "</div>"
   ]
  },
  {
   "cell_type": "markdown",
   "id": "bf41c756-fca1-43af-85b9-57072e5d53da",
   "metadata": {},
   "source": [
    "<h2>4.2 &nbsp; Método de Euler modificado - Implementação</h2>"
   ]
  },
  {
   "cell_type": "markdown",
   "id": "b7fc6863-07cd-4b1a-a5dc-b5d38e24e432",
   "metadata": {},
   "source": [
    "&nbsp; Importando as bibliotecas NumPy e Matplotlib:"
   ]
  },
  {
   "cell_type": "code",
   "execution_count": 1,
   "id": "fdaf3823-d7a5-4082-904b-50c7c5b26c54",
   "metadata": {},
   "outputs": [],
   "source": [
    "import numpy as np\n",
    "import matplotlib.pyplot as plt"
   ]
  },
  {
   "cell_type": "markdown",
   "id": "85786c97-2fb3-4de9-a061-0ee58f053f9b",
   "metadata": {},
   "source": [
    "&nbsp; Carregando o diretório <i><b>python/</b></i> que contém as funções escritas ao longo dos tópicos:"
   ]
  },
  {
   "cell_type": "code",
   "execution_count": 2,
   "id": "f3cace3b-667f-4976-903f-1daac248587b",
   "metadata": {},
   "outputs": [],
   "source": [
    "import sys \n",
    "sys.path.insert(0, '../python')"
   ]
  },
  {
   "cell_type": "markdown",
   "id": "57514524-495f-47e4-9982-3cd907b75446",
   "metadata": {},
   "source": [
    "&nbsp; Construindo e salvando em <i><b>python/</b></i> a função <b><i>sol_euler_mod(&lt;vetor_tempo&gt;,&lt;condição_inicial&gt;)</i></b>, responsável por aplicar o método de Euler modificado num intervalo de tempo <b><i>vt</i></b>, dada a condição inicial <b><i>T0</i></b>:"
   ]
  },
  {
   "cell_type": "code",
   "execution_count": 3,
   "id": "1d7a33ba-3198-48f4-9c69-2d357f08e161",
   "metadata": {},
   "outputs": [
    {
     "name": "stdout",
     "output_type": "stream",
     "text": [
      "Overwriting ../python/sol_euler_mod.py\n"
     ]
    }
   ],
   "source": [
    "%%writefile ../python/sol_euler_mod.py\n",
    "#dependências\n",
    "import numpy as np\n",
    "from f import f\n",
    "\n",
    "def sol_euler_mod(vt,T0):\n",
    "    \n",
    "    #Declarando vetor de temperaturas\n",
    "    T = np.array([T0])\n",
    "    \n",
    "    #Obtendo passo de derivação (h)\n",
    "    h = vt[2] - vt[1]\n",
    "\n",
    "    #Aproximando T(i) pelo método de Euler modificado\n",
    "    for t in vt:\n",
    "        Ti = T[-1]+(h/2)*(f(T[-1])+f(T[-1]+h*f(T[-1])))\n",
    "        T = np.append(T,Ti)\n",
    "        \n",
    "    return T[0:T.shape[0]-1]"
   ]
  },
  {
   "cell_type": "markdown",
   "id": "21deacbb-1832-4389-9632-f5fa206badb6",
   "metadata": {},
   "source": [
    "&nbsp; Uma vez definido o método de Euler modificado, basta declarar o passo de derivação <b><i>h</i></b>, a condição inicial <b><i>T0</i></b>, o tempo inicial <b><i>ti</i></b>, o tempo final <b><i>tf</i></b> e o intervalo de tempo <b><i>vt</i></b>:"
   ]
  },
  {
   "cell_type": "code",
   "execution_count": 4,
   "id": "b0efec29-ce4b-4760-be91-e509cc6bc0d7",
   "metadata": {},
   "outputs": [],
   "source": [
    "#Passo de derivação\n",
    "h = 0.001\n",
    "\n",
    "#Condição inicial\n",
    "T0 = 80\n",
    "\n",
    "#tempo inicial\n",
    "ti = 0\n",
    "\n",
    "#tempo final\n",
    "tf = 60\n",
    "\n",
    "#Intervalo de 0 à 60 minutos com passo h\n",
    "vt = np.arange(ti,tf,h)"
   ]
  },
  {
   "cell_type": "markdown",
   "id": "7b389b05-2d01-417e-b394-a9eec3fa261e",
   "metadata": {},
   "source": [
    "Importando a função <b><i>sol_euler_mod</i></b>:"
   ]
  },
  {
   "cell_type": "code",
   "execution_count": 5,
   "id": "e2e0de4f-559a-4cec-b905-1d47e9358b60",
   "metadata": {},
   "outputs": [],
   "source": [
    "from sol_euler_mod import sol_euler_mod"
   ]
  },
  {
   "cell_type": "markdown",
   "id": "fa50c159-c1f3-4dfd-aa63-755632cba86a",
   "metadata": {},
   "source": [
    "&nbsp; Atribuindo as variáveis aos parâmetros de <b><i>sol_euler_mod</i></b>:"
   ]
  },
  {
   "cell_type": "code",
   "execution_count": 6,
   "id": "e50f54f2-eaf9-45cc-8834-eabf55d7d6a2",
   "metadata": {},
   "outputs": [
    {
     "name": "stdout",
     "output_type": "stream",
     "text": [
      "[80.         79.9940003  79.9880012  ... 20.14876976 20.14875488\n",
      " 20.14874001]\n",
      "O vetor de temperaturas tem 60000 elementos\n",
      "CPU times: total: 2.44 s\n",
      "Wall time: 2.56 s\n"
     ]
    }
   ],
   "source": [
    "%%time\n",
    "T = sol_euler_mod(vt,T0)\n",
    "print(T)\n",
    "print('O vetor de temperaturas tem {} elementos'.format(T.shape[0]))"
   ]
  },
  {
   "cell_type": "markdown",
   "id": "0d390e3e-c527-4a8b-8192-8744e2218154",
   "metadata": {},
   "source": [
    "[80.  &nbsp;       79.9940003 &nbsp;  79.9880012 &nbsp;  ... &nbsp; 20.14876976 &nbsp; 20.14875488\n",
    " &nbsp; 20.14874001]\n",
    "O vetor de temperaturas tem 60000 elementos"
   ]
  },
  {
   "cell_type": "markdown",
   "id": "04be1661-3f11-437b-bac3-1df3d70e85f2",
   "metadata": {},
   "source": [
    "&nbsp; Exibindo o gráfico <b>vt</b> $\\times$ <b>T</b> "
   ]
  },
  {
   "cell_type": "code",
   "execution_count": 7,
   "id": "7f0f8828-d902-4c3a-a6c0-dc759e702e0f",
   "metadata": {},
   "outputs": [
    {
     "data": {
      "image/png": "[encoded data removed]",
      "text/plain": [
       "<Figure size 432x288 with 1 Axes>"
      ]
     },
     "metadata": {
      "needs_background": "light"
     },
     "output_type": "display_data"
    }
   ],
   "source": [
    "plt.plot(vt,T,'g',label='Euler Modificado')\n",
    "plt.title('Temperatura da xícara ao longo do tempo')\n",
    "plt.xlabel('Tempo (min)')\n",
    "plt.ylabel('Temperatura (°C)')\n",
    "plt.legend()\n",
    "plt.show()"
   ]
  },
  {
   "cell_type": "markdown",
   "id": "04ccb294-a59d-4986-9ce2-ac7ba8e5d4cb",
   "metadata": {},
   "source": [
    "<h2>4.3 &nbsp; Estudo comparativo - Diferentes passos de derivação</h2>\n",
    "&nbsp; Este tópico tem como objetivo estudar o comportamento da solução numérica para diferentes passos de derivação.\n",
    "<br>\n",
    "<br>\n",
    "&nbsp; Construindo o vetor <b><i>passos</i></b> e o vetor <i><b>cores</b></i> da seguinte forma:\n",
    "<center><i><b>passos(i)</b></i> $=$ <i><b>cores(i)</b></i>, $i=1,2,3,\\dots$</center>"
   ]
  },
  {
   "cell_type": "code",
   "execution_count": 8,
   "id": "5a912fcb-3343-4853-bea7-1ac7d70d5338",
   "metadata": {},
   "outputs": [
    {
     "name": "stdout",
     "output_type": "stream",
     "text": [
      " |passos| = 6 , |cores| = 6\n"
     ]
    }
   ],
   "source": [
    "passos = np.array([4,2,1,0.1,0.01,0.001])\n",
    "cores = np.array(['m','c','r','k','g','b'])\n",
    "print(' |passos| = {} , |cores| = {}'.format(passos.shape[0],cores.shape[0]))"
   ]
  },
  {
   "cell_type": "markdown",
   "id": "67910fe9-3dca-4034-8a81-d36fd5e7724a",
   "metadata": {},
   "source": [
    "&nbsp; Dessa forma, escrevemos um <i>loop</i> para percorrer os elementos de <b><i>passos</i></b> e assim gerar diferentes soluções através da função <b><i>sol_euler</i></b>:"
   ]
  },
  {
   "cell_type": "code",
   "execution_count": 9,
   "id": "510d6990-0cda-4011-81c6-f44e6eddff31",
   "metadata": {},
   "outputs": [
    {
     "data": {
      "image/png": "[encoded data removed]",
      "text/plain": [
       "<Figure size 432x288 with 1 Axes>"
      ]
     },
     "metadata": {
      "needs_background": "light"
     },
     "output_type": "display_data"
    }
   ],
   "source": [
    "#Criando loop que percorre os elementos de passos\n",
    "for passo in passos:\n",
    "   \n",
    "    #Criando vetor tempo\n",
    "    vt = np.arange(ti,tf,passo)\n",
    "\n",
    "    #Chamando a função sol_euler_mod \n",
    "    T = sol_euler_mod(vt,T0)\n",
    "    \n",
    "    #Grafico da curva    \n",
    "    plt.plot(vt,T,'{}'.format(cores[np.where(passos==passo)[0][0]]),label='h = {}'.format(passo))\n",
    "\n",
    "#Exibindo figura\n",
    "plt.title('Soluções para diferentes passos de derivação (h)')\n",
    "plt.xlabel('Tempo (min)')\n",
    "plt.ylabel('Temperatura (°C)')\n",
    "plt.legend()\n",
    "plt.show()"
   ]
  },
  {
   "cell_type": "markdown",
   "id": "532637b4-bbbd-4d52-8519-3f272e6a0133",
   "metadata": {},
   "source": [
    "&nbsp; Nota-se que pelo método de Euler modificado, as soluções para diferentes passos, são mais próximas entre si do que as soluções para os mesmos passos pelo método de Euler. \n",
    "<br>\n",
    "&nbsp; Basta explicitar que as soluções não só estão mais próximas entre si, mas também estão mais próximas da solução analítica. &nbsp; Para isto, precisamos construir um gráfico contendo o erro cometido em cada passo em relação à solução analítica.\n",
    "<br>\n",
    "<br>\n",
    "<h2>4.4&nbsp; Estudo comparativo - Soluções numéricas e analítica</h2>\n",
    "&nbsp; Importando a função <i><b>f_erro(&lt;vetor_da_solução_analítica&gt;,&lt;vetor_da_solução_numérica&gt;)</b></i>:"
   ]
  },
  {
   "cell_type": "code",
   "execution_count": 10,
   "id": "7d13458d-a45a-4048-adb4-0390ac41f6ad",
   "metadata": {},
   "outputs": [],
   "source": [
    "from f_erro import f_erro"
   ]
  },
  {
   "cell_type": "markdown",
   "id": "e17e4cac-ce7c-4a96-ba46-c4de9c3b4afd",
   "metadata": {},
   "source": [
    "&nbsp; Neste momento, escrevemos um algoritmo similar ao <b>input [9]</b>, mas, ao invés de exibir o gráfico para diferentes passos de derivação, exibiremos o erro para estes passos."
   ]
  },
  {
   "cell_type": "code",
   "execution_count": null,
   "id": "ce852d95-f0f2-4a69-bdb8-61bcc7d02db2",
   "metadata": {},
   "outputs": [],
   "source": [
    "#Criando loop para diferentes passos de derivação\n",
    "for passo in passos:\n",
    "   \n",
    "    #Criando vetor tempo \n",
    "    vt = np.arange(ti,tf,passo)\n",
    "    \n",
    "    #Chamando a função sol_euler_mod \n",
    "    T = sol_euler_mod(vt,T0)\n",
    "    \n",
    "    #Gerando solução analítica\n",
    "    sol_analitica = 20+60*np.exp(-0.1*vt)\n",
    "    \n",
    "    #Chamando a função erro\n",
    "    err = abs( f_erro(sol_analitica,T))\n",
    "    \n",
    "    #Grafico da curva    \n",
    "    plt.plot(vt,err,'{}'.format(cores[np.where(passos==passo)[0][0]]),label='h = {}'.format(passo))\n",
    "    \n",
    "#Exibindo figura\n",
    "plt.title('Erro numérico para diferentes passos de integração (Euler Modificado)')\n",
    "plt.xlabel('Tempo (min)')\n",
    "plt.ylabel('Erro absoluto')\n",
    "plt.legend()\n",
    "plt.show()"
   ]
  },
  {
   "cell_type": "markdown",
   "id": "4672dd58-0152-43de-9115-55764440cdfb",
   "metadata": {},
   "source": [
    "&nbsp; Nota-se que a medida em que o passo de derivação diminui, o erro entre a solução numérica e analítica se aproxima de zero. \n",
    "&nbsp; Desta forma, concluímos que para obter uma solução numérica aceitável pelo método de Euler modificado, devemos tomar um passo de derivação próximo de 0. &nbsp; Além disso, para todos os passos utilizados, a solução numérica é maior que a solução analítica, fazendo oposição ao método de Euler."
   ]
  },
  {
   "cell_type": "markdown",
   "id": "b398fa4f-78c0-47a8-bc1f-57e2a9ca22ab",
   "metadata": {},
   "source": [
    "<h2>4.5 &nbsp; Obtendo o maior passo de derivação para produzir uma aproximação aceitável</h2>\n",
    "\n",
    "&nbsp; Uma solução com erro máximo menor que <b>0.4</b> é uma aproximação aceitável para este problema, dada a escala, este valor será o limite superior <i><b>limite_sup</b></i> para o erro máximo:"
   ]
  },
  {
   "cell_type": "code",
   "execution_count": null,
   "id": "be1fc9d6-b855-474b-9c5d-b055b576d572",
   "metadata": {},
   "outputs": [],
   "source": [
    "limite_sup = 0.4"
   ]
  },
  {
   "cell_type": "markdown",
   "id": "1985967c-6827-49f8-abe5-2b8213135853",
   "metadata": {},
   "source": [
    "&nbsp; Declaramos o passo de derivação inicial valendo 3, uma vez que estamos trabalhando com um método numérico que converge rapidamente:"
   ]
  },
  {
   "cell_type": "code",
   "execution_count": null,
   "id": "5efdc383-c2fb-4bcf-a45c-073ae2c29a93",
   "metadata": {},
   "outputs": [],
   "source": [
    "passo = 3"
   ]
  },
  {
   "cell_type": "markdown",
   "id": "a1bbcabe-2816-4dcb-8baf-fa06ddae201b",
   "metadata": {},
   "source": [
    "&nbsp; Além disso, precisamos, convenientemente, definir o decréscimo do passo de derivação, de forma que o passo de derivação tenda a zero:"
   ]
  },
  {
   "cell_type": "code",
   "execution_count": null,
   "id": "be88a76d-ed0e-4820-a731-1c780ec0c37a",
   "metadata": {},
   "outputs": [],
   "source": [
    "decrescimo = 0.01"
   ]
  },
  {
   "cell_type": "markdown",
   "id": "fb742f5a-8fbd-4f7b-ac86-35d148b9adf9",
   "metadata": {},
   "source": [
    "&nbsp; Além disso, vamos criar uma matriz com finalidade de armazenar o passo atual bem como seu respectivo erro máximo."
   ]
  },
  {
   "cell_type": "code",
   "execution_count": null,
   "id": "047b944d-e7b7-4055-a1e8-345ea84c53e3",
   "metadata": {},
   "outputs": [],
   "source": [
    "dados = [[0, 0]]"
   ]
  },
  {
   "cell_type": "markdown",
   "id": "4421f1c8-bc93-4ae6-b528-50e9fea79001",
   "metadata": {},
   "source": [
    "&nbsp; Continuando, escrevemos um <i>loop</i> de forma que o passo de derivação seja reduzido até que o erro máximo entre a solução numérica e analítica seja menor que o limite superior.\n",
    "<br>\n",
    "<b>&nbsp; Atenção:</b> Devemos tomar os valores absolutos  dos elementos do vetor erro <b>abs(erro[])</b>:"
   ]
  },
  {
   "cell_type": "code",
   "execution_count": null,
   "id": "08a1bae4-948b-4741-87a8-934caf381336",
   "metadata": {},
   "outputs": [],
   "source": [
    "#variável auxiliar\n",
    "err = np.array([T0])\n",
    "\n",
    "while np.amax(abs(err)) > limite_sup:\n",
    "    \n",
    "    #Criando vetor tempo \n",
    "    vt = np.arange(ti,tf,passo)\n",
    "    \n",
    "    #Chamando a função sol_euler_mod \n",
    "    T = sol_euler_mod(vt,T0)\n",
    "    \n",
    "    #Gerando solução analítica\n",
    "    sol_analitica = 20+60*np.exp(-0.1*vt)\n",
    "    \n",
    "    #Chamando a função erro\n",
    "    err = f_erro(sol_analitica,T)\n",
    "    \n",
    "    #Adicionando linhas à matriz (tabela)\n",
    "    dados = np.vstack([dados,[round(passo, 2),np.amax(abs(err))]])\n",
    "    \n",
    "    #Realizando decrescimo do passo de derivação\n",
    "    passo = passo - decrescimo"
   ]
  },
  {
   "cell_type": "markdown",
   "id": "93bdff80-e16b-4493-87b0-e57fa70eeb84",
   "metadata": {},
   "source": [
    "&nbsp; Finalmente, exibimos os dados armazenados:"
   ]
  },
  {
   "cell_type": "code",
   "execution_count": null,
   "id": "dba53685-8232-4c1f-b082-ff72b5b14836",
   "metadata": {},
   "outputs": [],
   "source": [
    "#remove a primeira linha da matriz\n",
    "dados = np.delete(dados, 0, 0)\n",
    "\n",
    "#Exibindo tabela\n",
    "fig, ax =plt.subplots(1,1)\n",
    "column_labels=['Passo', 'Erro máximo']\n",
    "ax.axis('tight')\n",
    "ax.axis('off')\n",
    "ax.table(cellText=dados,colLabels=column_labels,loc='center')\n",
    "\n",
    "plt.show()\n",
    "\n",
    "print('Última linha: {}'.format(dados[dados.shape[0]-1]))"
   ]
  },
  {
   "cell_type": "markdown",
   "id": "d4920bd8-c84a-4283-a259-26835e6d9f2e",
   "metadata": {},
   "source": [
    "&nbsp; Conforme a tabela gerada pelo <b>Input [17]</b>, o passo de derivação que devemos utilizar para produzirmos uma simulação com erro máximo menor que <b>0.4</b>, sob as condições descritas ao longo deste tópico, é de <b>2.95</b>."
   ]
  }
 ],
 "metadata": {
  "kernelspec": {
   "display_name": "Python 3 (ipykernel)",
   "language": "python",
   "name": "python3"
  },
  "language_info": {
   "codemirror_mode": {
    "name": "ipython",
    "version": 3
   },
   "file_extension": ".py",
   "mimetype": "text/x-python",
   "name": "python",
   "nbconvert_exporter": "python",
   "pygments_lexer": "ipython3",
   "version": "3.10.2"
  }
 },
 "nbformat": 4,
 "nbformat_minor": 5
}
