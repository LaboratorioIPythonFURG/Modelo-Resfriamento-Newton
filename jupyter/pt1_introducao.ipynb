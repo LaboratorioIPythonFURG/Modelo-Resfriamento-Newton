{
 "cells": [
  {
   "cell_type": "markdown",
   "id": "a92bf4a3-764c-4576-b80f-362cf43526c4",
   "metadata": {},
   "source": [
    "<h1 style='color:#0000ec'>1 &nbsp; Problema proposto: Lei de resfriamento de Newton </h1>\n",
    "        \n",
    "&nbsp; Vamos considerar uma xícara com café cuja temperatura inicial é de $80^{\\circ}C$  e que\n",
    "se encontra em uma sala onde a temperatura do ar é de $T_{a}=20^{\\circ}C$. &nbsp; Admite-se que a temperatura do\n",
    "ar é constante. &nbsp; É conveniente neste caso utilizar como unidades $^{\\circ}C$ (para a temperatura) e minutos\n",
    "(para o tempo). &nbsp; Nessas unidades podemos utilizar o valor para o coeficiente de transferência de\n",
    "calor, $κ = 0.1 \\: (min \\: κ^{-1}).$"
   ]
  }
 ],
 "metadata": {
  "kernelspec": {
   "display_name": "Python 3 (ipykernel)",
   "language": "python",
   "name": "python3"
  },
  "language_info": {
   "codemirror_mode": {
    "name": "ipython",
    "version": 3
   },
   "file_extension": ".py",
   "mimetype": "text/x-python",
   "name": "python",
   "nbconvert_exporter": "python",
   "pygments_lexer": "ipython3",
   "version": "3.10.2"
  }
 },
 "nbformat": 4,
 "nbformat_minor": 5
}
